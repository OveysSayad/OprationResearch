{
  "nbformat": 4,
  "nbformat_minor": 0,
  "metadata": {
    "colab": {
      "provenance": []
    },
    "kernelspec": {
      "name": "python3",
      "display_name": "Python 3"
    },
    "language_info": {
      "name": "python"
    }
  },
  "cells": [
    {
      "cell_type": "code",
      "execution_count": 146,
      "metadata": {
        "colab": {
          "base_uri": "https://localhost:8080/"
        },
        "id": "V-LDCBXw_0OV",
        "outputId": "caca7282-655f-486f-ff3d-49d3dafd2dff"
      },
      "outputs": [
        {
          "output_type": "stream",
          "name": "stdout",
          "text": [
            "Looking in indexes: https://pypi.org/simple, https://us-python.pkg.dev/colab-wheels/public/simple/\n",
            "Requirement already satisfied: ortools in /usr/local/lib/python3.10/dist-packages (9.6.2534)\n",
            "Requirement already satisfied: absl-py>=0.13 in /usr/local/lib/python3.10/dist-packages (from ortools) (1.4.0)\n",
            "Requirement already satisfied: numpy>=1.13.3 in /usr/local/lib/python3.10/dist-packages (from ortools) (1.22.4)\n",
            "Requirement already satisfied: protobuf>=4.21.12 in /usr/local/lib/python3.10/dist-packages (from ortools) (4.23.3)\n",
            "Requirement already satisfied: scipy>=1.10.0 in /usr/local/lib/python3.10/dist-packages (from ortools) (1.10.1)\n"
          ]
        }
      ],
      "source": [
        "#OR project\n",
        "!pip install ortools"
      ]
    },
    {
      "cell_type": "code",
      "source": [
        "from ortools.linear_solver import pywraplp\n",
        "solver= pywraplp.Solver.CreateSolver('GLOP')"
      ],
      "metadata": {
        "id": "aYRVRk1UCZc-"
      },
      "execution_count": 198,
      "outputs": []
    },
    {
      "cell_type": "code",
      "source": [
        "#define the variables\n",
        "x11=solver.IntVar(0.0 , solver.infinity() ,'x11')\n",
        "x12=solver.IntVar(0.0 , solver.infinity() ,'x12')\n",
        "x17=solver.IntVar(0.0 , solver.infinity() ,'x17')\n",
        "x23=solver.IntVar(0.0 , solver.infinity() ,'x23')\n",
        "x24=solver.IntVar(0.0 , solver.infinity() ,'x24')\n",
        "x25=solver.IntVar(0.0 , solver.infinity() ,'x25')\n",
        "x27=solver.IntVar(0.0 , solver.infinity() ,'x27')\n",
        "x31=solver.IntVar(0.0 , solver.infinity() ,'x31')\n",
        "x34=solver.IntVar(0.0 , solver.infinity() ,'x34')\n",
        "x36=solver.IntVar(0.0 , solver.infinity() ,'x36')\n",
        "x42=solver.IntVar(0.0 , solver.infinity() ,'x42')\n",
        "x44=solver.IntVar(0.0 , solver.infinity() ,'x44')\n",
        "x45=solver.IntVar(0.0 , solver.infinity() ,'x45')\n",
        "x47=solver.IntVar(0.0 , solver.infinity() ,'x47')\n",
        "x53=solver.IntVar(0.0 , solver.infinity() ,'x53')\n",
        "x55=solver.IntVar(0.0 , solver.infinity() ,'x55')\n",
        "x56=solver.IntVar(0.0 , solver.infinity() ,'x56')\n",
        "y1=solver.IntVar(0.0 , 1 ,'y1')\n",
        "y2=solver.IntVar(0.0 , 1 ,'y2')\n",
        "y3=solver.IntVar(0.0 , 1 ,'y3')\n",
        "y4=solver.IntVar(0.0 , 1 ,'y4')\n",
        "y5=solver.IntVar(0.0 , 1 ,'y5')\n",
        "g1=solver.IntVar(0.0 , 1 ,'g1')\n",
        "g2=solver.IntVar(0.0 , 1 ,'g2')\n",
        "g3=solver.IntVar(0.0 , 1 ,'g3')\n",
        "g4=solver.IntVar(0.0 , 1 ,'g4')\n",
        "g5=solver.IntVar(0.0 , 1 ,'g5')\n",
        "g6=solver.IntVar(0.0 , 1 ,'g6')\n",
        "g7=solver.IntVar(0.0 , 1 ,'g7')\n",
        "h=solver.IntVar(0.0 , 1 ,'h')\n",
        "w=solver.IntVar(0.0 , 1 ,'w')\n",
        "m=10000"
      ],
      "metadata": {
        "id": "36A7AUecDVxz"
      },
      "execution_count": 227,
      "outputs": []
    },
    {
      "cell_type": "code",
      "source": [
        "#define constraints\n",
        "solver.Add(m*y1>=x11+x12+x17) #ghesmat alef\n",
        "solver.Add(m*y2>=x23+x24+x25+x27)\n",
        "solver.Add(m*y3>=x31+x34+x36)\n",
        "solver.Add(m*y4>=x44+x45+x47)\n",
        "solver.Add(1000*m*y5>=x53+x55+x56)\n",
        "solver.Add(y4+y5<=1)\n",
        "solver.Add(y1+y2+y3+y4+y5<=3)\n",
        "solver.Add(m*g1>=x11+x31) #ghesmat be\n",
        "solver.Add(m*g2>=x12+x42)\n",
        "solver.Add(m*g3>=x23+x53)\n",
        "solver.Add(m*g4>=x24+x34+x44)\n",
        "solver.Add(m*g5>=x25+x45+x55)\n",
        "solver.Add(m*g6>=x36+x56)\n",
        "solver.Add(m*g7>=x17+x27+x47)\n",
        "solver.Add(g1+g2+g3+g4+g5+g6+g7>=4)\n",
        "solver.Add(m*g1>=x11+x31)\n",
        "solver.Add(x11+x12+x17+x23+x24+x25+x27+x31+x34+x36+x42+x44+x45+x47+x53+x55+x56>=18000)\n",
        "solver.Add(24*x11+27*x12+31*x17<=2700*60) #ghesmat pe\n",
        "solver.Add(30*x23+32*x24+35*x25+35*x27<=3000*60)\n",
        "solver.Add(30*x53+23*x55+42*x56<=2800*60)\n",
        "solver.Add(20*x31+27*x34+50*x36<=3100*60)\n",
        "solver.Add(32*x42+25*x44+41*x45+31*x47<=2700*60)\n",
        "solver.Add(g1<=m*(1-h)) # ghesmat jim\n",
        "solver.Add(x11+x31>=1500-m*h)\n",
        "solver.Add(g2<=m*(1-h))\n",
        "solver.Add(x12+x42>=1500-m*h)\n",
        "solver.Add(g3<=m*(1-h))\n",
        "solver.Add(x23+x53>=1500-m*h)\n",
        "solver.Add(g4<=m*(1-h))\n",
        "solver.Add(x24+x34+x44>=1500-m*h)\n",
        "solver.Add(g5<=m*(1-h))\n",
        "solver.Add(x25+x45+x55>=1500-m*h)\n",
        "solver.Add(g6<=m*(1-h))\n",
        "solver.Add(x36+x56>=1500-m*h)\n",
        "solver.Add(g7<=m*(1-h))\n",
        "solver.Add(x17+x27+x47>=1500-m*h)\n",
        "solver.Add(1500-w*m>=x36+x56) #ghesmat he\n",
        "solver.Add(x11+x31+x24+x34+x44>=3300) #ghesmat dal\n",
        "solver.Add(x11+x31+x12+x42>=0.63*(x11+x12+x17+x23+x24+x25+x27+x31+x34+x42+x44+x45+x47+x53+x55)) #ghesmat re\n",
        "solver.Add(6*(x11+x31)+4*(x12+x42)+12*(x17+x27+x47)<=54000)\n",
        "solver.Add(x11+x31<=12000)\n",
        "solver.Add(x12+x42<=8500)\n",
        "solver.Add(x23+x53<=4500)\n",
        "solver.Add(x24+x34+x44<=5000)\n",
        "solver.Add(x25+x45+x55<=16000)\n",
        "solver.Add(x36+x56<=3000)\n",
        "solver.Add(x17+x27+x47<=9000)"
      ],
      "metadata": {
        "colab": {
          "base_uri": "https://localhost:8080/"
        },
        "id": "vdmWNoDJJRsB",
        "outputId": "e8d61f45-5e49-4cf0-c7da-63b45d7cbdac"
      },
      "execution_count": 228,
      "outputs": [
        {
          "output_type": "execute_result",
          "data": {
            "text/plain": [
              "<ortools.linear_solver.pywraplp.Constraint; proxy of <Swig Object of type 'operations_research::MPConstraint *' at 0x7f06835d8ba0> >"
            ]
          },
          "metadata": {},
          "execution_count": 228
        }
      ]
    },
    {
      "cell_type": "code",
      "source": [
        "# objective function\n",
        "solver.Maximize(25*(x11+x31)+30*(x12+x42)+18*(x23+x53)+20*(x24+x34+x44)+32*(x25+x45+x55)+14*(x36+x56)+35*(x17+x27+x47)-29000*y1-32000*y2-48000*y3-28000*y4-40000*y5-3500*w)"
      ],
      "metadata": {
        "id": "kxYz_XDxVwid"
      },
      "execution_count": 229,
      "outputs": []
    },
    {
      "cell_type": "code",
      "source": [
        "status = solver.Solve()\n",
        "if status == pywraplp.Solver.OPTIMAL:\n",
        "    print('Objective value =', solver.Objective().Value())\n",
        "    print('Problem solved in %f milliseconds' % solver.wall_time())\n",
        "\n",
        "else:\n",
        "    print('The problem does not have an optimal solution.')\n"
      ],
      "metadata": {
        "colab": {
          "base_uri": "https://localhost:8080/"
        },
        "id": "MZjEijYaXufY",
        "outputId": "8b5b847e-1d9e-4d6e-bb04-c6bcd317e0da"
      },
      "execution_count": 230,
      "outputs": [
        {
          "output_type": "stream",
          "name": "stdout",
          "text": [
            "Objective value = 554937.009723797\n",
            "Problem solved in 1922709.000000 milliseconds\n"
          ]
        }
      ]
    },
    {
      "cell_type": "code",
      "source": [
        "for var in  solver.variables():\n",
        "  print(var.name(),'=>' , var.solution_value())"
      ],
      "metadata": {
        "colab": {
          "base_uri": "https://localhost:8080/"
        },
        "id": "e_J3NN5Ecs2N",
        "outputId": "35cc9f81-4b15-4546-a7c9-8cf54ed8080c"
      },
      "execution_count": 231,
      "outputs": [
        {
          "output_type": "stream",
          "name": "stdout",
          "text": [
            "x11 => 0.0\n",
            "x12 => 4185.000000000003\n",
            "x17 => 0.0\n",
            "x23 => 0.0\n",
            "x24 => 1604.9999999999993\n",
            "x25 => 0.0\n",
            "x27 => 0.0\n",
            "x31 => 6210.0\n",
            "x34 => 0.0\n",
            "x36 => 1235.999999999999\n",
            "x42 => 0.0\n",
            "x44 => 0.0\n",
            "x45 => 0.0\n",
            "x47 => 0.0\n",
            "x53 => 4500.0\n",
            "x55 => 0.0\n",
            "x56 => 264.00000000000125\n",
            "y1 => 0.041850000000000054\n",
            "y2 => 0.95815\n",
            "y3 => 1.0\n",
            "y4 => 0.0\n",
            "y5 => 1.0\n",
            "g1 => 1.0\n",
            "g2 => 1.0\n",
            "g3 => 1.0\n",
            "g4 => 1.0\n",
            "g5 => 1.0\n",
            "g6 => 1.0\n",
            "g7 => 1.0\n",
            "h => 0.99999\n",
            "w => 0.0\n",
            "x11 => 0.0\n",
            "x12 => 6000.000000000001\n",
            "x17 => 0.0\n",
            "x23 => 0.0\n",
            "x24 => 0.0\n",
            "x25 => 0.0\n",
            "x27 => 719.1666666666686\n",
            "x31 => 1894.9999999999975\n",
            "x34 => 1405.000000000003\n",
            "x36 => 1499.9999999999998\n",
            "x42 => 2500.0000000000005\n",
            "x44 => 0.0\n",
            "x45 => 0.0\n",
            "x47 => 0.0\n",
            "x53 => 3261.6666666666642\n",
            "x55 => 719.1666666666646\n",
            "x56 => 0.0\n",
            "y1 => 0.6000000000000001\n",
            "y2 => 0.07191666666666685\n",
            "y3 => 1.0\n",
            "y4 => 0.0\n",
            "y5 => 1.0\n",
            "g1 => 0.18949999999999978\n",
            "g2 => 0.8499999999999998\n",
            "g3 => 1.0\n",
            "g4 => 1.0\n",
            "g5 => 1.0\n",
            "g6 => 0.15000000000000002\n",
            "g7 => 0.07191666666666652\n",
            "h => 0.07808333333333362\n",
            "w => 0.0\n",
            "x11 => 0.0\n",
            "x12 => 0.0\n",
            "x17 => 0.0\n",
            "x23 => 0.0\n",
            "x24 => 0.0\n",
            "x25 => 0.0\n",
            "x27 => 129.40092165898628\n",
            "x31 => 5433.594470046085\n",
            "x34 => 0.0\n",
            "x36 => 723.0562870309388\n",
            "x42 => 4961.405529953914\n",
            "x44 => 129.4009216589899\n",
            "x45 => 0.0\n",
            "x47 => 0.0\n",
            "x53 => 129.40092165898986\n",
            "x55 => 5716.797235023032\n",
            "x56 => 776.9437129690616\n",
            "y1 => 1.0\n",
            "y2 => 1.0\n",
            "y3 => 0.6156650757077029\n",
            "y4 => 0.01294009216589899\n",
            "y5 => 0.0006623141869651628\n",
            "g1 => 1.0\n",
            "g2 => 1.0\n",
            "g3 => 1.0\n",
            "g4 => 0.2653801843317972\n",
            "g5 => 0.5716797235023034\n",
            "g6 => 0.15000000000000002\n",
            "g7 => 0.012940092165898531\n",
            "h => 0.13705990783410127\n",
            "w => 0.0\n",
            "x11 => 2882.8125\n",
            "x12 => 3437.5000000000005\n",
            "x17 => 0.0\n",
            "x23 => 0.0\n",
            "x24 => 0.0\n",
            "x25 => 0.0\n",
            "x27 => 0.0\n",
            "x31 => 450.5208333333357\n",
            "x34 => 0.0\n",
            "x36 => 1305.8075081884601\n",
            "x42 => 5062.5\n",
            "x44 => 0.0\n",
            "x45 => 0.0\n",
            "x47 => 0.0\n",
            "x53 => 0.0\n",
            "x55 => 6949.73544973545\n",
            "x56 => 194.19249181153967\n",
            "y1 => 0.63203125\n",
            "y2 => 0.0\n",
            "y3 => 0.17563283415217967\n",
            "y4 => 0.0\n",
            "y5 => 0.0007143927941548611\n",
            "g1 => 1.0\n",
            "g2 => 1.0\n",
            "g3 => 1.0\n",
            "g4 => 0.1550264550264545\n",
            "g5 => 0.6949735449735451\n",
            "g6 => 0.15000000000000002\n",
            "g7 => 0.0\n",
            "h => 0.9999\n",
            "w => 0.0\n"
          ]
        }
      ]
    }
  ]
}